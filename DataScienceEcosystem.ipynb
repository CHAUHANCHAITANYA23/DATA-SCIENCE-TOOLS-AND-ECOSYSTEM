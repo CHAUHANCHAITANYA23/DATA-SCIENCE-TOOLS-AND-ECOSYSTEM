{
 "cells": [
  {
   "cell_type": "markdown",
   "metadata": {},
   "source": [
    "<center>\n",
    "    <img src=\"https://cf-courses-data.s3.us.cloud-object-storage.appdomain.cloud/IBMDeveloperSkillsNetwork-DS0105EN-SkillsNetwork/labs/Module2/images/SN_web_lightmode.png\" width=\"300\" alt=\"cognitiveclass.ai logo\">\n",
    "</center>\n"
   ]
  },
  {
   "cell_type": "markdown",
   "metadata": {},
   "source": [
    "#### Add your code below following the instructions given in the course\n"
   ]
  },
  {
   "cell_type": "markdown",
   "metadata": {},
   "source": [
    "# Data Science Tools and Ecosystem"
   ]
  },
  {
   "cell_type": "markdown",
   "metadata": {},
   "source": [
    "Data science tools and ecosystems empower professionals to analyze, visualize, and derive insights from data. Key tools include Python, R, SQL, and Tableau, while ecosystems like Jupyter and Hadoop support seamless workflows. These enable data manipulation, statistical modeling, machine learning, and collaboration, driving innovation across diverse industries."
   ]
  },
  {
   "cell_type": "markdown",
   "metadata": {},
   "source": [
    "**OBJECTIVES**\n",
    "* Create a markdown cell introducing arithmetic expression examples\n",
    "\n",
    "* Create a code cell to multiply and add numbers\n",
    "\n",
    "* Create a code cell to convert minutes to hours\n",
    "\n",
    "* Create a markdown cell with a table of Data Science tools"
   ]
  },
  {
   "cell_type": "markdown",
   "metadata": {},
   "source": [
    "Some of the popular languages that Data Scientists use are:\n",
    "1. PYTHON\n",
    "2. R PROGRAMMING\n",
    "3. SCALA \n",
    "4. SQL \n",
    "5. JAVA"
   ]
  },
  {
   "cell_type": "markdown",
   "metadata": {},
   "source": [
    "These programming languages comprises of various libraries which are used by data scientists such as:\n",
    "\n",
    "1. PYTHON- PANDA and NUMPY for data structure and matrices,\n",
    "           MATPLOTLIB and SEABORN for visualisation,\n",
    "           SCIKIT and SERAS for machine learning,\n",
    "           TENSOR FLOW and PYTORCH for deep learning.\n",
    "   \n",
    "2. R prg-  DPLYR for data manipulation,\n",
    "           STRINGR for string manipulation,\n",
    "           GGPLOT for data visualisation,\n",
    "           CARET for machine learning ,\n",
    "           PLOTLY for web based data visual,\n",
    "           LATTICE for coplex and multivariate ,\n",
    "           LEAFLET for interactive plots and\n",
    "           GGALLY are extension of GGPLOT for visuals.\n",
    "   \n",
    "3. SCALA- VEGAS for statistics and BIGDL for deep learning ."
   ]
  },
  {
   "cell_type": "markdown",
   "metadata": {},
   "source": [
    "|DATA SCIENCE TOOLS|\n",
    "|---|\n",
    "|Apache Hadoop|\n",
    "|Tensorflow|\n",
    "|SAS|"
   ]
  },
  {
   "cell_type": "markdown",
   "metadata": {},
   "source": [
    "### Below are a few examples of evaluating arithmetic expressions in Python"
   ]
  },
  {
   "cell_type": "code",
   "execution_count": 1,
   "metadata": {},
   "outputs": [
    {
     "data": {
      "text/plain": [
       "17"
      ]
     },
     "execution_count": 1,
     "metadata": {},
     "output_type": "execute_result"
    }
   ],
   "source": [
    "#This a simple arithmetic expression to mutiply then add integers\n",
    "(3*4)+5"
   ]
  },
  {
   "cell_type": "code",
   "execution_count": 2,
   "metadata": {},
   "outputs": [
    {
     "data": {
      "text/plain": [
       "3.3333333333333335"
      ]
     },
     "execution_count": 2,
     "metadata": {},
     "output_type": "execute_result"
    }
   ],
   "source": [
    "#This will convert 200 minutes to hours by diving by 60.\n",
    "200/60"
   ]
  },
  {
   "cell_type": "markdown",
   "metadata": {},
   "source": [
    "## AUTHOR\n",
    "CHAITANYA CHAUHAN"
   ]
  },
  {
   "cell_type": "code",
   "execution_count": null,
   "metadata": {},
   "outputs": [],
   "source": []
  }
 ],
 "metadata": {
  "kernelspec": {
   "display_name": "Python 3 (ipykernel)",
   "language": "python",
   "name": "python3"
  },
  "language_info": {
   "codemirror_mode": {
    "name": "ipython",
    "version": 3
   },
   "file_extension": ".py",
   "mimetype": "text/x-python",
   "name": "python",
   "nbconvert_exporter": "python",
   "pygments_lexer": "ipython3",
   "version": "3.12.8"
  }
 },
 "nbformat": 4,
 "nbformat_minor": 4
}
